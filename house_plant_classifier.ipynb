{
  "nbformat": 4,
  "nbformat_minor": 0,
  "metadata": {
    "colab": {
      "name": "house_plant_classifier.ipynb",
      "provenance": [],
      "authorship_tag": "ABX9TyPICLK0FIMYbOPN73E1Urji",
      "include_colab_link": true
    },
    "kernelspec": {
      "name": "python3",
      "display_name": "Python 3"
    },
    "language_info": {
      "name": "python"
    }
  },
  "cells": [
    {
      "cell_type": "markdown",
      "metadata": {
        "id": "view-in-github",
        "colab_type": "text"
      },
      "source": [
        "<a href=\"https://colab.research.google.com/github/alexander-ettlin/house_plant_classifier/blob/main/house_plant_classifier.ipynb\" target=\"_parent\"><img src=\"https://colab.research.google.com/assets/colab-badge.svg\" alt=\"Open In Colab\"/></a>"
      ]
    },
    {
      "cell_type": "markdown",
      "metadata": {
        "id": "SYP6XkapDYv_"
      },
      "source": [
        "## House Plant Classifier"
      ]
    },
    {
      "cell_type": "code",
      "metadata": {
        "id": "AN7Rr7nmIPUR"
      },
      "source": [
        ""
      ],
      "execution_count": null,
      "outputs": []
    },
    {
      "cell_type": "markdown",
      "metadata": {
        "id": "fTPz-pzAIKxw"
      },
      "source": [
        "## Plant Images"
      ]
    },
    {
      "cell_type": "code",
      "metadata": {
        "id": "8NqeJNGoIN7S"
      },
      "source": [
        ""
      ],
      "execution_count": null,
      "outputs": []
    },
    {
      "cell_type": "markdown",
      "metadata": {
        "id": "yl8vRNu_Deh3"
      },
      "source": [
        "## Webscraper"
      ]
    },
    {
      "cell_type": "code",
      "metadata": {
        "id": "Aisox5hmDcKY"
      },
      "source": [
        ""
      ],
      "execution_count": null,
      "outputs": []
    },
    {
      "cell_type": "markdown",
      "metadata": {
        "id": "k6mbF-A9Ddzn"
      },
      "source": [
        ""
      ]
    }
  ]
}